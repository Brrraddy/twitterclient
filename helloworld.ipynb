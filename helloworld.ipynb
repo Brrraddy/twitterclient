{
 "cells": [
  {
   "cell_type": "code",
   "execution_count": 3,
   "metadata": {},
   "outputs": [
    {
     "data": {
      "text/plain": [
       "Status(_api=<tweepy.api.API object at 0x00000249888E4D08>, _json={'created_at': 'Sat Apr 04 20:13:02 +0000 2020', 'id': 1246531241538736133, 'id_str': '1246531241538736133', 'text': 'hello, world!', 'truncated': False, 'entities': {'hashtags': [], 'symbols': [], 'user_mentions': [], 'urls': []}, 'source': '<a href=\"https://brrraddy.github.io/twitterclient\" rel=\"nofollow\">CourseProject-TwiClient</a>', 'in_reply_to_status_id': None, 'in_reply_to_status_id_str': None, 'in_reply_to_user_id': None, 'in_reply_to_user_id_str': None, 'in_reply_to_screen_name': None, 'user': {'id': 1236743129895755781, 'id_str': '1236743129895755781', 'name': 'jugadorsya', 'screen_name': 'jugadorsya', 'location': '', 'description': '', 'url': None, 'entities': {'description': {'urls': []}}, 'protected': False, 'followers_count': 0, 'friends_count': 0, 'listed_count': 0, 'created_at': 'Sun Mar 08 19:59:08 +0000 2020', 'favourites_count': 0, 'utc_offset': None, 'time_zone': None, 'geo_enabled': False, 'verified': False, 'statuses_count': 2, 'lang': None, 'contributors_enabled': False, 'is_translator': False, 'is_translation_enabled': False, 'profile_background_color': 'F5F8FA', 'profile_background_image_url': None, 'profile_background_image_url_https': None, 'profile_background_tile': False, 'profile_image_url': 'http://pbs.twimg.com/profile_images/1238166797200904194/5XY1FhDA_normal.jpg', 'profile_image_url_https': 'https://pbs.twimg.com/profile_images/1238166797200904194/5XY1FhDA_normal.jpg', 'profile_banner_url': 'https://pbs.twimg.com/profile_banners/1236743129895755781/1584036944', 'profile_link_color': '1DA1F2', 'profile_sidebar_border_color': 'C0DEED', 'profile_sidebar_fill_color': 'DDEEF6', 'profile_text_color': '333333', 'profile_use_background_image': True, 'has_extended_profile': False, 'default_profile': True, 'default_profile_image': False, 'following': False, 'follow_request_sent': False, 'notifications': False, 'translator_type': 'none'}, 'geo': None, 'coordinates': None, 'place': None, 'contributors': None, 'is_quote_status': False, 'retweet_count': 0, 'favorite_count': 0, 'favorited': False, 'retweeted': False, 'lang': 'en'}, created_at=datetime.datetime(2020, 4, 4, 20, 13, 2), id=1246531241538736133, id_str='1246531241538736133', text='hello, world!', truncated=False, entities={'hashtags': [], 'symbols': [], 'user_mentions': [], 'urls': []}, source='CourseProject-TwiClient', source_url='https://brrraddy.github.io/twitterclient', in_reply_to_status_id=None, in_reply_to_status_id_str=None, in_reply_to_user_id=None, in_reply_to_user_id_str=None, in_reply_to_screen_name=None, author=User(_api=<tweepy.api.API object at 0x00000249888E4D08>, _json={'id': 1236743129895755781, 'id_str': '1236743129895755781', 'name': 'jugadorsya', 'screen_name': 'jugadorsya', 'location': '', 'description': '', 'url': None, 'entities': {'description': {'urls': []}}, 'protected': False, 'followers_count': 0, 'friends_count': 0, 'listed_count': 0, 'created_at': 'Sun Mar 08 19:59:08 +0000 2020', 'favourites_count': 0, 'utc_offset': None, 'time_zone': None, 'geo_enabled': False, 'verified': False, 'statuses_count': 2, 'lang': None, 'contributors_enabled': False, 'is_translator': False, 'is_translation_enabled': False, 'profile_background_color': 'F5F8FA', 'profile_background_image_url': None, 'profile_background_image_url_https': None, 'profile_background_tile': False, 'profile_image_url': 'http://pbs.twimg.com/profile_images/1238166797200904194/5XY1FhDA_normal.jpg', 'profile_image_url_https': 'https://pbs.twimg.com/profile_images/1238166797200904194/5XY1FhDA_normal.jpg', 'profile_banner_url': 'https://pbs.twimg.com/profile_banners/1236743129895755781/1584036944', 'profile_link_color': '1DA1F2', 'profile_sidebar_border_color': 'C0DEED', 'profile_sidebar_fill_color': 'DDEEF6', 'profile_text_color': '333333', 'profile_use_background_image': True, 'has_extended_profile': False, 'default_profile': True, 'default_profile_image': False, 'following': False, 'follow_request_sent': False, 'notifications': False, 'translator_type': 'none'}, id=1236743129895755781, id_str='1236743129895755781', name='jugadorsya', screen_name='jugadorsya', location='', description='', url=None, entities={'description': {'urls': []}}, protected=False, followers_count=0, friends_count=0, listed_count=0, created_at=datetime.datetime(2020, 3, 8, 19, 59, 8), favourites_count=0, utc_offset=None, time_zone=None, geo_enabled=False, verified=False, statuses_count=2, lang=None, contributors_enabled=False, is_translator=False, is_translation_enabled=False, profile_background_color='F5F8FA', profile_background_image_url=None, profile_background_image_url_https=None, profile_background_tile=False, profile_image_url='http://pbs.twimg.com/profile_images/1238166797200904194/5XY1FhDA_normal.jpg', profile_image_url_https='https://pbs.twimg.com/profile_images/1238166797200904194/5XY1FhDA_normal.jpg', profile_banner_url='https://pbs.twimg.com/profile_banners/1236743129895755781/1584036944', profile_link_color='1DA1F2', profile_sidebar_border_color='C0DEED', profile_sidebar_fill_color='DDEEF6', profile_text_color='333333', profile_use_background_image=True, has_extended_profile=False, default_profile=True, default_profile_image=False, following=False, follow_request_sent=False, notifications=False, translator_type='none'), user=User(_api=<tweepy.api.API object at 0x00000249888E4D08>, _json={'id': 1236743129895755781, 'id_str': '1236743129895755781', 'name': 'jugadorsya', 'screen_name': 'jugadorsya', 'location': '', 'description': '', 'url': None, 'entities': {'description': {'urls': []}}, 'protected': False, 'followers_count': 0, 'friends_count': 0, 'listed_count': 0, 'created_at': 'Sun Mar 08 19:59:08 +0000 2020', 'favourites_count': 0, 'utc_offset': None, 'time_zone': None, 'geo_enabled': False, 'verified': False, 'statuses_count': 2, 'lang': None, 'contributors_enabled': False, 'is_translator': False, 'is_translation_enabled': False, 'profile_background_color': 'F5F8FA', 'profile_background_image_url': None, 'profile_background_image_url_https': None, 'profile_background_tile': False, 'profile_image_url': 'http://pbs.twimg.com/profile_images/1238166797200904194/5XY1FhDA_normal.jpg', 'profile_image_url_https': 'https://pbs.twimg.com/profile_images/1238166797200904194/5XY1FhDA_normal.jpg', 'profile_banner_url': 'https://pbs.twimg.com/profile_banners/1236743129895755781/1584036944', 'profile_link_color': '1DA1F2', 'profile_sidebar_border_color': 'C0DEED', 'profile_sidebar_fill_color': 'DDEEF6', 'profile_text_color': '333333', 'profile_use_background_image': True, 'has_extended_profile': False, 'default_profile': True, 'default_profile_image': False, 'following': False, 'follow_request_sent': False, 'notifications': False, 'translator_type': 'none'}, id=1236743129895755781, id_str='1236743129895755781', name='jugadorsya', screen_name='jugadorsya', location='', description='', url=None, entities={'description': {'urls': []}}, protected=False, followers_count=0, friends_count=0, listed_count=0, created_at=datetime.datetime(2020, 3, 8, 19, 59, 8), favourites_count=0, utc_offset=None, time_zone=None, geo_enabled=False, verified=False, statuses_count=2, lang=None, contributors_enabled=False, is_translator=False, is_translation_enabled=False, profile_background_color='F5F8FA', profile_background_image_url=None, profile_background_image_url_https=None, profile_background_tile=False, profile_image_url='http://pbs.twimg.com/profile_images/1238166797200904194/5XY1FhDA_normal.jpg', profile_image_url_https='https://pbs.twimg.com/profile_images/1238166797200904194/5XY1FhDA_normal.jpg', profile_banner_url='https://pbs.twimg.com/profile_banners/1236743129895755781/1584036944', profile_link_color='1DA1F2', profile_sidebar_border_color='C0DEED', profile_sidebar_fill_color='DDEEF6', profile_text_color='333333', profile_use_background_image=True, has_extended_profile=False, default_profile=True, default_profile_image=False, following=False, follow_request_sent=False, notifications=False, translator_type='none'), geo=None, coordinates=None, place=None, contributors=None, is_quote_status=False, retweet_count=0, favorite_count=0, favorited=False, retweeted=False, lang='en')"
      ]
     },
     "execution_count": 3,
     "metadata": {},
     "output_type": "execute_result"
    }
   ],
   "source": [
    "import tweepy\n",
    "\n",
    "#create variables for each key,secret,token\n",
    "consumer_key = 'aaPr4wkbkvuMd6wgh6JHFGNgK'\n",
    "consumer_secret = 'NuQtoNtpvvtdorsj4MfSHLq6mdKow1H0AKftkRsB58KBkBHWOQ'\n",
    "access_token = '1236743129895755781-3XFdX3m2vLbuqGf9YBVTwzygSryIaB'\n",
    "access_token_secret = 'DcPcLU6V3NNZk32tZQ8JIEns5fTdXtBzaAIVdhEfXfi1Z'\n",
    "\n",
    "#set up with OAuth and integrate with API\n",
    "auth = tweepy.OAuthHandler(consumer_key, consumer_secret)\n",
    "auth.set_access_token(access_token, access_token_secret)\n",
    "api = tweepy.API(auth)\n",
    "\n",
    "#write a tweet to push to our Twitter account\n",
    "tweet = 'hello, world!'\n",
    "api.update_status(status=tweet)"
   ]
  },
  {
   "cell_type": "code",
   "execution_count": null,
   "metadata": {},
   "outputs": [],
   "source": []
  }
 ],
 "metadata": {
  "kernelspec": {
   "display_name": "Python 3",
   "language": "python",
   "name": "python3"
  },
  "language_info": {
   "codemirror_mode": {
    "name": "ipython",
    "version": 3
   },
   "file_extension": ".py",
   "mimetype": "text/x-python",
   "name": "python",
   "nbconvert_exporter": "python",
   "pygments_lexer": "ipython3",
   "version": "3.7.6"
  }
 },
 "nbformat": 4,
 "nbformat_minor": 4
}
